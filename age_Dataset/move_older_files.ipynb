{
 "cells": [
  {
   "cell_type": "code",
   "execution_count": 1,
   "id": "0605b653",
   "metadata": {},
   "outputs": [
    {
     "data": {
      "text/plain": [
       "['[원천]1.AI챗봇_1',\n",
       " '[원천]1.AI챗봇_2',\n",
       " '[원천]2.음성수집도구_1',\n",
       " '[원천]2.음성수집도구_2',\n",
       " '[원천]2.음성수집도구_3',\n",
       " '[원천]2.음성수집도구_4',\n",
       " '[원천]2.음성수집도구_5',\n",
       " '[원천]2.음성수집도구_6',\n",
       " '[원천]3.스튜디오',\n",
       " '[원천]4.AI스피커']"
      ]
     },
     "execution_count": 1,
     "metadata": {},
     "output_type": "execute_result"
    }
   ],
   "source": [
    "import os\n",
    "import glob\n",
    "dest_folder = \"D:\\\\ksponspeech\\\\자유대화 음성(노인남녀)\\\\Training\\\\audio\"\n",
    "train_path = \"D:\\\\ksponspeech\\\\자유대화 음성(노인남녀)\\\\Training\"\n",
    "train_dir_list = os.listdir(train_path)\n",
    "train_dir_list = [name for name in train_dir_list if name[0:4]=='[원천]'] #[원천] 폴더만\n",
    "train_dir_list"
   ]
  },
  {
   "cell_type": "code",
   "execution_count": 2,
   "id": "d1a8974c",
   "metadata": {},
   "outputs": [
    {
     "name": "stdout",
     "output_type": "stream",
     "text": [
      "ERROR!\n"
     ]
    },
    {
     "data": {
      "text/plain": [
       "['AI챗봇',\n",
       " 'AI챗봇',\n",
       " '음성수집도구',\n",
       " '음성수집도구',\n",
       " '음성수집도구',\n",
       " '음성수집도구',\n",
       " '음성수집도구',\n",
       " '음성수집도구',\n",
       " '스튜디오',\n",
       " '스튜디오']"
      ]
     },
     "execution_count": 2,
     "metadata": {},
     "output_type": "execute_result"
    }
   ],
   "source": [
    "train_env_list = []\n",
    "for item in train_dir_list:\n",
    "    if \"AI챗봇\" in item:\n",
    "        i = \"AI챗봇\"\n",
    "    elif \"음성수집도구\" in item:\n",
    "        i = \"음성수집도구\"\n",
    "    elif \"스튜디오\" in item:\n",
    "        i = \"스튜디오\"\n",
    "    else:\n",
    "        print(\"ERROR!\")\n",
    "    train_env_list.append(i)\n",
    "\n",
    "train_env_list"
   ]
  },
  {
   "cell_type": "code",
   "execution_count": 3,
   "id": "1f4f4e37",
   "metadata": {},
   "outputs": [],
   "source": [
    "import os\n",
    "import shutil\n",
    "#train_dataset\n",
    "def move_file(target_file, env_folder, env):\n",
    "    #env = env_folder[44:-2] #AI챗봇 or 음성수집도구 or 스튜디오\n",
    "    #환경별 폴더에 들어가도록 설정\n",
    "    dest_folder = \"D:\\\\ksponspeech\\\\자유대화 음성(노인남녀)\\\\Training\\\\audio\"+'\\\\'+str(env)\n",
    "    #성별 폴더에 들어가도록 설정\n",
    "    if target_file.find('_M_')>=0: #남성 파일이면\n",
    "        dest_folder = dest_folder+'\\\\Male'\n",
    "    elif target_file.find('_F_')>=0:\n",
    "        dest_folder = dest_folder+'\\\\Female'\n",
    "    else:\n",
    "        print(\"Error!\")\n",
    "        print(\"File_name: \", target_file)\n",
    "        print(\"dest_folder: \", dest_folder)\n",
    "        print(\"env_folder: \". env_folder)\n",
    "        print(\"env: \", env)\n",
    "    #파일 옮기기\n",
    "    shutil.move(target_file, dest_folder)\n",
    "    #print(target_file,' ', dest_folder, ' ', env, ' ', env_folder, \"move ok!\")"
   ]
  },
  {
   "cell_type": "code",
   "execution_count": 5,
   "id": "e04a3882",
   "metadata": {
    "scrolled": false
   },
   "outputs": [
    {
     "name": "stdout",
     "output_type": "stream",
     "text": [
      "[원천]1.AI챗봇_1 START!\n"
     ]
    },
    {
     "name": "stderr",
     "output_type": "stream",
     "text": [
      "100%|█████████████████████████████████| 148/148 [02:17<00:00,  1.08it/s]\n"
     ]
    },
    {
     "name": "stdout",
     "output_type": "stream",
     "text": [
      "[원천]1.AI챗봇_2 START!\n"
     ]
    },
    {
     "name": "stderr",
     "output_type": "stream",
     "text": [
      "100%|█████████████████████████████████| 136/136 [01:43<00:00,  1.31it/s]\n"
     ]
    },
    {
     "name": "stdout",
     "output_type": "stream",
     "text": [
      "[원천]2.음성수집도구_1 START!\n"
     ]
    },
    {
     "name": "stderr",
     "output_type": "stream",
     "text": [
      "100%|█████████████████████████████████| 120/120 [01:01<00:00,  1.97it/s]\n"
     ]
    },
    {
     "name": "stdout",
     "output_type": "stream",
     "text": [
      "[원천]2.음성수집도구_2 START!\n"
     ]
    },
    {
     "name": "stderr",
     "output_type": "stream",
     "text": [
      "100%|█████████████████████████████████| 110/110 [00:54<00:00,  2.03it/s]\n"
     ]
    },
    {
     "name": "stdout",
     "output_type": "stream",
     "text": [
      "[원천]2.음성수집도구_3 START!\n"
     ]
    },
    {
     "name": "stderr",
     "output_type": "stream",
     "text": [
      "100%|█████████████████████████████████| 110/110 [00:52<00:00,  2.11it/s]\n"
     ]
    },
    {
     "name": "stdout",
     "output_type": "stream",
     "text": [
      "[원천]2.음성수집도구_4 START!\n"
     ]
    },
    {
     "name": "stderr",
     "output_type": "stream",
     "text": [
      "100%|███████████████████████████████████| 90/90 [00:52<00:00,  1.70it/s]\n"
     ]
    },
    {
     "name": "stdout",
     "output_type": "stream",
     "text": [
      "[원천]2.음성수집도구_5 START!\n"
     ]
    },
    {
     "name": "stderr",
     "output_type": "stream",
     "text": [
      "100%|███████████████████████████████████| 90/90 [00:56<00:00,  1.58it/s]\n"
     ]
    },
    {
     "name": "stdout",
     "output_type": "stream",
     "text": [
      "[원천]2.음성수집도구_6 START!\n"
     ]
    },
    {
     "name": "stderr",
     "output_type": "stream",
     "text": [
      "100%|█████████████████████████████████| 153/153 [01:01<00:00,  2.48it/s]\n"
     ]
    },
    {
     "name": "stdout",
     "output_type": "stream",
     "text": [
      "[원천]3.스튜디오 START!\n"
     ]
    },
    {
     "name": "stderr",
     "output_type": "stream",
     "text": [
      "100%|█████████████████████████████████| 125/125 [01:31<00:00,  1.37it/s]\n"
     ]
    },
    {
     "name": "stdout",
     "output_type": "stream",
     "text": [
      "[원천]4.AI스피커 START!\n"
     ]
    },
    {
     "name": "stderr",
     "output_type": "stream",
     "text": [
      "100%|███████████████████████████████████| 83/83 [02:11<00:00,  1.59s/it]\n"
     ]
    }
   ],
   "source": [
    "from tqdm import tqdm\n",
    "for i in range(len(train_dir_list)): # 원천 - cwd\n",
    "    print(train_dir_list[i], \"START!\")\n",
    "    tmp_dir = train_path+'\\\\'+train_dir_list[i]\n",
    "    for tmp_folder in tqdm(os.listdir(tmp_dir)):\n",
    "        #print(\"tmp_folder: \", tmp_folder)\n",
    "        tmp_file_list = os.listdir(tmp_dir+'\\\\'+tmp_folder) # 원천 - tmp_folder - cwd\n",
    "        for tmp_file in tmp_file_list:\n",
    "            #print(\"tmp_file: \", tmp_file)\n",
    "            tmp_path = tmp_dir+'\\\\'+tmp_folder+'\\\\'+tmp_file\n",
    "            move_file(tmp_path, tmp_dir, train_env_list[i])"
   ]
  },
  {
   "cell_type": "code",
   "execution_count": 6,
   "id": "98e2f40f",
   "metadata": {},
   "outputs": [
    {
     "data": {
      "text/plain": [
       "['[원천]1.AI챗봇', '[원천]2.음성수집도구', '[원천]3.스튜디오', '[원천]4.AI스피커']"
      ]
     },
     "execution_count": 6,
     "metadata": {},
     "output_type": "execute_result"
    }
   ],
   "source": [
    "import glob\n",
    "dest_folder = \"D:\\ksponspeech\\\\자유대화 음성(노인남녀)\\\\Validation\\audio\"\n",
    "valid_path = \"D:\\\\ksponspeech\\\\자유대화 음성(노인남녀)\\\\Validation\"\n",
    "valid_dir_list = os.listdir(valid_path)\n",
    "valid_dir_list = [name for name in valid_dir_list if name[0:4]=='[원천]'] #[원천] 폴더만\n",
    "valid_dir_list"
   ]
  },
  {
   "cell_type": "code",
   "execution_count": 8,
   "id": "ce1d7dbe",
   "metadata": {},
   "outputs": [
    {
     "data": {
      "text/plain": [
       "['AI챗봇', '음성수집도구', '스튜디오', 'AI스피커']"
      ]
     },
     "execution_count": 8,
     "metadata": {},
     "output_type": "execute_result"
    }
   ],
   "source": [
    "valid_env_list = []\n",
    "for item in valid_dir_list:\n",
    "    if \"AI챗봇\" in item:\n",
    "        i = \"AI챗봇\"\n",
    "    elif \"음성수집도구\" in item:\n",
    "        i = \"음성수집도구\"\n",
    "    elif \"스튜디오\" in item:\n",
    "        i = \"스튜디오\"\n",
    "    elif \"AI스피커\" in item:\n",
    "        i = \"AI스피커\"\n",
    "    else:\n",
    "        print(\"ERROR!\")\n",
    "    valid_env_list.append(i)\n",
    "\n",
    "valid_env_list"
   ]
  },
  {
   "cell_type": "code",
   "execution_count": 9,
   "id": "37295a9c",
   "metadata": {},
   "outputs": [],
   "source": [
    "import os\n",
    "import shutil\n",
    "#valid_dataset\n",
    "def move_file(target_file, env_folder, env):\n",
    "    #환경별 폴더에 들어가도록 설정\n",
    "    dest_folder = \"D:\\\\ksponspeech\\\\자유대화 음성(노인남녀)\\\\Validation\\\\audio\"+'\\\\'+str(env)\n",
    "    #성별 폴더에 들어가도록 설정\n",
    "    if target_file.find('_M_')>=0: #남성 파일이면\n",
    "        dest_folder = dest_folder+'\\\\Male'\n",
    "    elif target_file.find('_F_')>=0:\n",
    "        dest_folder = dest_folder+'\\\\Female'\n",
    "    else:\n",
    "        print(\"Error!\")\n",
    "        print(\"File_name: \", target_file)\n",
    "        print(\"dest_folder: \", dest_folder)\n",
    "        print(\"env_folder: \". env_folder)\n",
    "        print(\"env: \", env)\n",
    "    #파일 옮기기\n",
    "    shutil.move(target_file, dest_folder)\n",
    "    #print(target_file,' ', dest_folder, ' ', env, ' ', env_folder, \"move ok!\")"
   ]
  },
  {
   "cell_type": "code",
   "execution_count": 10,
   "id": "c9b457ec",
   "metadata": {},
   "outputs": [
    {
     "name": "stdout",
     "output_type": "stream",
     "text": [
      "[원천]1.AI챗봇 START!\n"
     ]
    },
    {
     "name": "stderr",
     "output_type": "stream",
     "text": [
      "100%|███████████████████████████████████████████████████████████████████████████████████████████████████████████████████████| 56/56 [00:23<00:00,  2.43it/s]\n"
     ]
    },
    {
     "name": "stdout",
     "output_type": "stream",
     "text": [
      "[원천]2.음성수집도구 START!\n"
     ]
    },
    {
     "name": "stderr",
     "output_type": "stream",
     "text": [
      "100%|███████████████████████████████████████████████████████████████████████████████████████████████████████████████████████| 94/94 [00:45<00:00,  2.05it/s]\n"
     ]
    },
    {
     "name": "stdout",
     "output_type": "stream",
     "text": [
      "[원천]3.스튜디오 START!\n"
     ]
    },
    {
     "name": "stderr",
     "output_type": "stream",
     "text": [
      "100%|███████████████████████████████████████████████████████████████████████████████████████████████████████████████████████| 16/16 [00:07<00:00,  2.16it/s]\n"
     ]
    },
    {
     "name": "stdout",
     "output_type": "stream",
     "text": [
      "[원천]4.AI스피커 START!\n"
     ]
    },
    {
     "name": "stderr",
     "output_type": "stream",
     "text": [
      "100%|███████████████████████████████████████████████████████████████████████████████████████████████████████████████████████| 13/13 [00:06<00:00,  2.10it/s]\n"
     ]
    }
   ],
   "source": [
    "from tqdm import tqdm\n",
    "for i in range(len(valid_dir_list)): # 원천 - cwd\n",
    "    print(valid_dir_list[i], \"START!\")\n",
    "    tmp_dir = valid_path+'\\\\'+valid_dir_list[i]\n",
    "    for tmp_folder in tqdm(os.listdir(tmp_dir)):\n",
    "        #print(\"tmp_folder: \", tmp_folder)\n",
    "        tmp_file_list = os.listdir(tmp_dir+'\\\\'+tmp_folder) # 원천 - tmp_folder - cwd\n",
    "        for tmp_file in tmp_file_list:\n",
    "            #print(\"tmp_file: \", tmp_file)\n",
    "            tmp_path = tmp_dir+'\\\\'+tmp_folder+'\\\\'+tmp_file\n",
    "            move_file(tmp_path, tmp_dir, valid_env_list[i])"
   ]
  },
  {
   "cell_type": "code",
   "execution_count": null,
   "id": "fb7f2452",
   "metadata": {},
   "outputs": [],
   "source": [
    "print(tmp_dir)\n",
    "print(tmp_folder)\n",
    "print(tmp_file)"
   ]
  },
  {
   "cell_type": "code",
   "execution_count": null,
   "id": "68cf03a8",
   "metadata": {},
   "outputs": [],
   "source": []
  }
 ],
 "metadata": {
  "kernelspec": {
   "display_name": "kspeech4",
   "language": "python",
   "name": "kspeech4"
  },
  "language_info": {
   "codemirror_mode": {
    "name": "ipython",
    "version": 3
   },
   "file_extension": ".py",
   "mimetype": "text/x-python",
   "name": "python",
   "nbconvert_exporter": "python",
   "pygments_lexer": "ipython3",
   "version": "3.8.5"
  }
 },
 "nbformat": 4,
 "nbformat_minor": 5
}
