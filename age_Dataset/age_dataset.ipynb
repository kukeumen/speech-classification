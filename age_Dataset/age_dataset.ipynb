{
 "cells": [
  {
   "cell_type": "code",
   "execution_count": 1,
   "id": "186a0646",
   "metadata": {},
   "outputs": [],
   "source": [
    "import os\n",
    "import numpy as np\n",
    "import torch\n",
    "from torch import nn\n",
    "import pandas as pd\n",
    "import whisper\n",
    "import torchaudio\n",
    "import torchaudio.transforms as at\n",
    "from tqdm.notebook import tqdm\n",
    "from pathlib import Path\n",
    "from tqdm import tqdm"
   ]
  },
  {
   "cell_type": "code",
   "execution_count": 21,
   "id": "22b7d662",
   "metadata": {},
   "outputs": [],
   "source": [
    "def organize_dataset_path_list(path, gender):\n",
    "    file_path_list = list()\n",
    "    for env in os.listdir(path):\n",
    "        env_path = path+'\\\\'+env\n",
    "        print(env_path, \"START!\")\n",
    "        for gender_folder in tqdm(os.listdir(env_path)):\n",
    "            gender_folder_path = env_path +'\\\\'+gender\n",
    "            for gender_file in os.listdir(gender_folder_path):\n",
    "                gender_file_path = gender_folder_path+'\\\\'+gender_file\n",
    "                file_path_list.append(gender_file_path)\n",
    "    return file_path_list"
   ]
  },
  {
   "cell_type": "code",
   "execution_count": 22,
   "id": "4eac941d",
   "metadata": {},
   "outputs": [],
   "source": [
    "def organize_audio_path_list(data_path_list):\n",
    "    audio_path_list = []\n",
    "    #organize female audio path list\n",
    "    for i in data_path_list:\n",
    "        tmp_list = organize_dataset_path_list(i, \"Female\")\n",
    "        audio_path_list.extend(tmp_list)\n",
    "    \n",
    "    #organize male audio path list\n",
    "    for i in data_path_list:\n",
    "        tmp_list = organize_dataset_path_list(i, \"Male\")\n",
    "        audio_path_list.extend(tmp_list)\n",
    "    \n",
    "    return audio_path_list"
   ]
  },
  {
   "cell_type": "code",
   "execution_count": 23,
   "id": "b89619c8",
   "metadata": {},
   "outputs": [
    {
     "name": "stdout",
     "output_type": "stream",
     "text": [
      "D:\\ksponspeech\\자유대화 음성(소아, 유아)\\Training\\audio\\AI챗봇 START!\n"
     ]
    },
    {
     "data": {
      "application/vnd.jupyter.widget-view+json": {
       "model_id": "7eae54bdf427432cb6c41323d6a955c4",
       "version_major": 2,
       "version_minor": 0
      },
      "text/plain": [
       "  0%|          | 0/2 [00:00<?, ?it/s]"
      ]
     },
     "metadata": {},
     "output_type": "display_data"
    },
    {
     "name": "stdout",
     "output_type": "stream",
     "text": [
      "D:\\ksponspeech\\자유대화 음성(소아, 유아)\\Training\\audio\\스튜디오 START!\n"
     ]
    },
    {
     "data": {
      "application/vnd.jupyter.widget-view+json": {
       "model_id": "03a8b93cd30b4c64a59a65f6ce4a4a2e",
       "version_major": 2,
       "version_minor": 0
      },
      "text/plain": [
       "  0%|          | 0/2 [00:00<?, ?it/s]"
      ]
     },
     "metadata": {},
     "output_type": "display_data"
    },
    {
     "name": "stdout",
     "output_type": "stream",
     "text": [
      "D:\\ksponspeech\\자유대화 음성(소아, 유아)\\Training\\audio\\음성수집도구 START!\n"
     ]
    },
    {
     "data": {
      "application/vnd.jupyter.widget-view+json": {
       "model_id": "316dab7e572f4190bd96502d038bd4d9",
       "version_major": 2,
       "version_minor": 0
      },
      "text/plain": [
       "  0%|          | 0/2 [00:00<?, ?it/s]"
      ]
     },
     "metadata": {},
     "output_type": "display_data"
    },
    {
     "name": "stdout",
     "output_type": "stream",
     "text": [
      "D:\\ksponspeech\\자유대화 음성(일반남녀)\\Training\\audio\\AI챗봇 START!\n"
     ]
    },
    {
     "data": {
      "application/vnd.jupyter.widget-view+json": {
       "model_id": "34f9c50bd43141b28823869d8455c7e9",
       "version_major": 2,
       "version_minor": 0
      },
      "text/plain": [
       "  0%|          | 0/2 [00:00<?, ?it/s]"
      ]
     },
     "metadata": {},
     "output_type": "display_data"
    },
    {
     "name": "stdout",
     "output_type": "stream",
     "text": [
      "D:\\ksponspeech\\자유대화 음성(일반남녀)\\Training\\audio\\스튜디오 START!\n"
     ]
    },
    {
     "data": {
      "application/vnd.jupyter.widget-view+json": {
       "model_id": "6e4c7c9829014550b559d356b1e6ae48",
       "version_major": 2,
       "version_minor": 0
      },
      "text/plain": [
       "  0%|          | 0/2 [00:00<?, ?it/s]"
      ]
     },
     "metadata": {},
     "output_type": "display_data"
    },
    {
     "name": "stdout",
     "output_type": "stream",
     "text": [
      "D:\\ksponspeech\\자유대화 음성(일반남녀)\\Training\\audio\\음성수집도구 START!\n"
     ]
    },
    {
     "data": {
      "application/vnd.jupyter.widget-view+json": {
       "model_id": "07e5b4bc9889428f8436e657c14fc4d3",
       "version_major": 2,
       "version_minor": 0
      },
      "text/plain": [
       "  0%|          | 0/2 [00:00<?, ?it/s]"
      ]
     },
     "metadata": {},
     "output_type": "display_data"
    },
    {
     "name": "stdout",
     "output_type": "stream",
     "text": [
      "D:\\ksponspeech\\자유대화 음성(노인남녀)\\Training\\audio\\AI챗봇 START!\n"
     ]
    },
    {
     "data": {
      "application/vnd.jupyter.widget-view+json": {
       "model_id": "4d0564f5aae8470fb60413a3a3b255d1",
       "version_major": 2,
       "version_minor": 0
      },
      "text/plain": [
       "  0%|          | 0/2 [00:00<?, ?it/s]"
      ]
     },
     "metadata": {},
     "output_type": "display_data"
    },
    {
     "name": "stdout",
     "output_type": "stream",
     "text": [
      "D:\\ksponspeech\\자유대화 음성(노인남녀)\\Training\\audio\\스튜디오 START!\n"
     ]
    },
    {
     "data": {
      "application/vnd.jupyter.widget-view+json": {
       "model_id": "0777b647343d406e85cba2575a48a710",
       "version_major": 2,
       "version_minor": 0
      },
      "text/plain": [
       "  0%|          | 0/2 [00:00<?, ?it/s]"
      ]
     },
     "metadata": {},
     "output_type": "display_data"
    },
    {
     "name": "stdout",
     "output_type": "stream",
     "text": [
      "D:\\ksponspeech\\자유대화 음성(노인남녀)\\Training\\audio\\음성수집도구 START!\n"
     ]
    },
    {
     "data": {
      "application/vnd.jupyter.widget-view+json": {
       "model_id": "8c984d266edf4611bc2f426677ddf24d",
       "version_major": 2,
       "version_minor": 0
      },
      "text/plain": [
       "  0%|          | 0/2 [00:00<?, ?it/s]"
      ]
     },
     "metadata": {},
     "output_type": "display_data"
    },
    {
     "name": "stdout",
     "output_type": "stream",
     "text": [
      "D:\\ksponspeech\\자유대화 음성(소아, 유아)\\Training\\audio\\AI챗봇 START!\n"
     ]
    },
    {
     "data": {
      "application/vnd.jupyter.widget-view+json": {
       "model_id": "0362be1c470f4d8cbdc7ad0d78ab9dde",
       "version_major": 2,
       "version_minor": 0
      },
      "text/plain": [
       "  0%|          | 0/2 [00:00<?, ?it/s]"
      ]
     },
     "metadata": {},
     "output_type": "display_data"
    },
    {
     "name": "stdout",
     "output_type": "stream",
     "text": [
      "D:\\ksponspeech\\자유대화 음성(소아, 유아)\\Training\\audio\\스튜디오 START!\n"
     ]
    },
    {
     "data": {
      "application/vnd.jupyter.widget-view+json": {
       "model_id": "159bee69569244b0831ec1f0b95668fc",
       "version_major": 2,
       "version_minor": 0
      },
      "text/plain": [
       "  0%|          | 0/2 [00:00<?, ?it/s]"
      ]
     },
     "metadata": {},
     "output_type": "display_data"
    },
    {
     "name": "stdout",
     "output_type": "stream",
     "text": [
      "D:\\ksponspeech\\자유대화 음성(소아, 유아)\\Training\\audio\\음성수집도구 START!\n"
     ]
    },
    {
     "data": {
      "application/vnd.jupyter.widget-view+json": {
       "model_id": "bb8d03fa1edc44129cef2dc2b8217bf4",
       "version_major": 2,
       "version_minor": 0
      },
      "text/plain": [
       "  0%|          | 0/2 [00:00<?, ?it/s]"
      ]
     },
     "metadata": {},
     "output_type": "display_data"
    },
    {
     "name": "stdout",
     "output_type": "stream",
     "text": [
      "D:\\ksponspeech\\자유대화 음성(일반남녀)\\Training\\audio\\AI챗봇 START!\n"
     ]
    },
    {
     "data": {
      "application/vnd.jupyter.widget-view+json": {
       "model_id": "10ad2a090eb54b18b7de00dec07c3b28",
       "version_major": 2,
       "version_minor": 0
      },
      "text/plain": [
       "  0%|          | 0/2 [00:00<?, ?it/s]"
      ]
     },
     "metadata": {},
     "output_type": "display_data"
    },
    {
     "name": "stdout",
     "output_type": "stream",
     "text": [
      "D:\\ksponspeech\\자유대화 음성(일반남녀)\\Training\\audio\\스튜디오 START!\n"
     ]
    },
    {
     "data": {
      "application/vnd.jupyter.widget-view+json": {
       "model_id": "f5cb4344f91446bc87d7e208f21acb84",
       "version_major": 2,
       "version_minor": 0
      },
      "text/plain": [
       "  0%|          | 0/2 [00:00<?, ?it/s]"
      ]
     },
     "metadata": {},
     "output_type": "display_data"
    },
    {
     "name": "stdout",
     "output_type": "stream",
     "text": [
      "D:\\ksponspeech\\자유대화 음성(일반남녀)\\Training\\audio\\음성수집도구 START!\n"
     ]
    },
    {
     "data": {
      "application/vnd.jupyter.widget-view+json": {
       "model_id": "c4842bee5060429bb184ecc3b3b7201a",
       "version_major": 2,
       "version_minor": 0
      },
      "text/plain": [
       "  0%|          | 0/2 [00:00<?, ?it/s]"
      ]
     },
     "metadata": {},
     "output_type": "display_data"
    },
    {
     "name": "stdout",
     "output_type": "stream",
     "text": [
      "D:\\ksponspeech\\자유대화 음성(노인남녀)\\Training\\audio\\AI챗봇 START!\n"
     ]
    },
    {
     "data": {
      "application/vnd.jupyter.widget-view+json": {
       "model_id": "1e8695e267ab4aec96e8624cfdc10231",
       "version_major": 2,
       "version_minor": 0
      },
      "text/plain": [
       "  0%|          | 0/2 [00:00<?, ?it/s]"
      ]
     },
     "metadata": {},
     "output_type": "display_data"
    },
    {
     "name": "stdout",
     "output_type": "stream",
     "text": [
      "D:\\ksponspeech\\자유대화 음성(노인남녀)\\Training\\audio\\스튜디오 START!\n"
     ]
    },
    {
     "data": {
      "application/vnd.jupyter.widget-view+json": {
       "model_id": "7355f62d7379444ba682cc1128bdf00a",
       "version_major": 2,
       "version_minor": 0
      },
      "text/plain": [
       "  0%|          | 0/2 [00:00<?, ?it/s]"
      ]
     },
     "metadata": {},
     "output_type": "display_data"
    },
    {
     "name": "stdout",
     "output_type": "stream",
     "text": [
      "D:\\ksponspeech\\자유대화 음성(노인남녀)\\Training\\audio\\음성수집도구 START!\n"
     ]
    },
    {
     "data": {
      "application/vnd.jupyter.widget-view+json": {
       "model_id": "c776c78278bc4b15bf6f3ee1a1f17c6f",
       "version_major": 2,
       "version_minor": 0
      },
      "text/plain": [
       "  0%|          | 0/2 [00:00<?, ?it/s]"
      ]
     },
     "metadata": {},
     "output_type": "display_data"
    },
    {
     "name": "stdout",
     "output_type": "stream",
     "text": [
      "D:\\ksponspeech\\자유대화 음성(소아, 유아)\\Validation\\audio\\AI챗봇 START!\n"
     ]
    },
    {
     "data": {
      "application/vnd.jupyter.widget-view+json": {
       "model_id": "2240291211944432a0b97a69b5f50e47",
       "version_major": 2,
       "version_minor": 0
      },
      "text/plain": [
       "  0%|          | 0/2 [00:00<?, ?it/s]"
      ]
     },
     "metadata": {},
     "output_type": "display_data"
    },
    {
     "name": "stdout",
     "output_type": "stream",
     "text": [
      "D:\\ksponspeech\\자유대화 음성(소아, 유아)\\Validation\\audio\\스튜디오 START!\n"
     ]
    },
    {
     "data": {
      "application/vnd.jupyter.widget-view+json": {
       "model_id": "97f2fb957d0d4df7a17e549e0d596610",
       "version_major": 2,
       "version_minor": 0
      },
      "text/plain": [
       "  0%|          | 0/2 [00:00<?, ?it/s]"
      ]
     },
     "metadata": {},
     "output_type": "display_data"
    },
    {
     "name": "stdout",
     "output_type": "stream",
     "text": [
      "D:\\ksponspeech\\자유대화 음성(소아, 유아)\\Validation\\audio\\음성수집도구 START!\n"
     ]
    },
    {
     "data": {
      "application/vnd.jupyter.widget-view+json": {
       "model_id": "874eaf7e3e694b0bbd574e68cbe72a59",
       "version_major": 2,
       "version_minor": 0
      },
      "text/plain": [
       "  0%|          | 0/2 [00:00<?, ?it/s]"
      ]
     },
     "metadata": {},
     "output_type": "display_data"
    },
    {
     "name": "stdout",
     "output_type": "stream",
     "text": [
      "D:\\ksponspeech\\자유대화 음성(일반남녀)\\Validation\\audio\\AI챗봇 START!\n"
     ]
    },
    {
     "data": {
      "application/vnd.jupyter.widget-view+json": {
       "model_id": "a94935a3f93940afa923ec1f78f9e5b5",
       "version_major": 2,
       "version_minor": 0
      },
      "text/plain": [
       "  0%|          | 0/2 [00:00<?, ?it/s]"
      ]
     },
     "metadata": {},
     "output_type": "display_data"
    },
    {
     "name": "stdout",
     "output_type": "stream",
     "text": [
      "D:\\ksponspeech\\자유대화 음성(일반남녀)\\Validation\\audio\\스튜디오 START!\n"
     ]
    },
    {
     "data": {
      "application/vnd.jupyter.widget-view+json": {
       "model_id": "4306de832e3741d28e2981a3d69cd39d",
       "version_major": 2,
       "version_minor": 0
      },
      "text/plain": [
       "  0%|          | 0/2 [00:00<?, ?it/s]"
      ]
     },
     "metadata": {},
     "output_type": "display_data"
    },
    {
     "name": "stdout",
     "output_type": "stream",
     "text": [
      "D:\\ksponspeech\\자유대화 음성(일반남녀)\\Validation\\audio\\음성수집도구 START!\n"
     ]
    },
    {
     "data": {
      "application/vnd.jupyter.widget-view+json": {
       "model_id": "3ccd7b0d3a6748a080fa7cf37962d316",
       "version_major": 2,
       "version_minor": 0
      },
      "text/plain": [
       "  0%|          | 0/2 [00:00<?, ?it/s]"
      ]
     },
     "metadata": {},
     "output_type": "display_data"
    },
    {
     "name": "stdout",
     "output_type": "stream",
     "text": [
      "D:\\ksponspeech\\자유대화 음성(노인남녀)\\Validation\\audio\\AI스피커 START!\n"
     ]
    },
    {
     "data": {
      "application/vnd.jupyter.widget-view+json": {
       "model_id": "7d8944dadb6a4c79a577fbf4db2b5d05",
       "version_major": 2,
       "version_minor": 0
      },
      "text/plain": [
       "  0%|          | 0/2 [00:00<?, ?it/s]"
      ]
     },
     "metadata": {},
     "output_type": "display_data"
    },
    {
     "name": "stdout",
     "output_type": "stream",
     "text": [
      "D:\\ksponspeech\\자유대화 음성(노인남녀)\\Validation\\audio\\AI챗봇 START!\n"
     ]
    },
    {
     "data": {
      "application/vnd.jupyter.widget-view+json": {
       "model_id": "804b3b6b8c4c4bec91665b120858f9eb",
       "version_major": 2,
       "version_minor": 0
      },
      "text/plain": [
       "  0%|          | 0/2 [00:00<?, ?it/s]"
      ]
     },
     "metadata": {},
     "output_type": "display_data"
    },
    {
     "name": "stdout",
     "output_type": "stream",
     "text": [
      "D:\\ksponspeech\\자유대화 음성(노인남녀)\\Validation\\audio\\스튜디오 START!\n"
     ]
    },
    {
     "data": {
      "application/vnd.jupyter.widget-view+json": {
       "model_id": "e20c38943f824c12aab2cf2dd7207e47",
       "version_major": 2,
       "version_minor": 0
      },
      "text/plain": [
       "  0%|          | 0/2 [00:00<?, ?it/s]"
      ]
     },
     "metadata": {},
     "output_type": "display_data"
    },
    {
     "name": "stdout",
     "output_type": "stream",
     "text": [
      "D:\\ksponspeech\\자유대화 음성(노인남녀)\\Validation\\audio\\음성수집도구 START!\n"
     ]
    },
    {
     "data": {
      "application/vnd.jupyter.widget-view+json": {
       "model_id": "e25e4075d5a7453d9db944c302d4e56a",
       "version_major": 2,
       "version_minor": 0
      },
      "text/plain": [
       "  0%|          | 0/2 [00:00<?, ?it/s]"
      ]
     },
     "metadata": {},
     "output_type": "display_data"
    },
    {
     "name": "stdout",
     "output_type": "stream",
     "text": [
      "D:\\ksponspeech\\자유대화 음성(소아, 유아)\\Validation\\audio\\AI챗봇 START!\n"
     ]
    },
    {
     "data": {
      "application/vnd.jupyter.widget-view+json": {
       "model_id": "50f1cd87d61a4cc19076cf0c1e5d4fc2",
       "version_major": 2,
       "version_minor": 0
      },
      "text/plain": [
       "  0%|          | 0/2 [00:00<?, ?it/s]"
      ]
     },
     "metadata": {},
     "output_type": "display_data"
    },
    {
     "name": "stdout",
     "output_type": "stream",
     "text": [
      "D:\\ksponspeech\\자유대화 음성(소아, 유아)\\Validation\\audio\\스튜디오 START!\n"
     ]
    },
    {
     "data": {
      "application/vnd.jupyter.widget-view+json": {
       "model_id": "14ec9ff73d0c45a0bffb4146dee1d034",
       "version_major": 2,
       "version_minor": 0
      },
      "text/plain": [
       "  0%|          | 0/2 [00:00<?, ?it/s]"
      ]
     },
     "metadata": {},
     "output_type": "display_data"
    },
    {
     "name": "stdout",
     "output_type": "stream",
     "text": [
      "D:\\ksponspeech\\자유대화 음성(소아, 유아)\\Validation\\audio\\음성수집도구 START!\n"
     ]
    },
    {
     "data": {
      "application/vnd.jupyter.widget-view+json": {
       "model_id": "2288ee30e3ba47ac8cd7a4a771e13b11",
       "version_major": 2,
       "version_minor": 0
      },
      "text/plain": [
       "  0%|          | 0/2 [00:00<?, ?it/s]"
      ]
     },
     "metadata": {},
     "output_type": "display_data"
    },
    {
     "name": "stdout",
     "output_type": "stream",
     "text": [
      "D:\\ksponspeech\\자유대화 음성(일반남녀)\\Validation\\audio\\AI챗봇 START!\n"
     ]
    },
    {
     "data": {
      "application/vnd.jupyter.widget-view+json": {
       "model_id": "3ffb1766a7b44b9aa106df6db4c93bd6",
       "version_major": 2,
       "version_minor": 0
      },
      "text/plain": [
       "  0%|          | 0/2 [00:00<?, ?it/s]"
      ]
     },
     "metadata": {},
     "output_type": "display_data"
    },
    {
     "name": "stdout",
     "output_type": "stream",
     "text": [
      "D:\\ksponspeech\\자유대화 음성(일반남녀)\\Validation\\audio\\스튜디오 START!\n"
     ]
    },
    {
     "data": {
      "application/vnd.jupyter.widget-view+json": {
       "model_id": "f1ae5546464b4540a18b2eca6986ab6e",
       "version_major": 2,
       "version_minor": 0
      },
      "text/plain": [
       "  0%|          | 0/2 [00:00<?, ?it/s]"
      ]
     },
     "metadata": {},
     "output_type": "display_data"
    },
    {
     "name": "stdout",
     "output_type": "stream",
     "text": [
      "D:\\ksponspeech\\자유대화 음성(일반남녀)\\Validation\\audio\\음성수집도구 START!\n"
     ]
    },
    {
     "data": {
      "application/vnd.jupyter.widget-view+json": {
       "model_id": "6e793465b10f4e6dac1ce3263ba2b027",
       "version_major": 2,
       "version_minor": 0
      },
      "text/plain": [
       "  0%|          | 0/2 [00:00<?, ?it/s]"
      ]
     },
     "metadata": {},
     "output_type": "display_data"
    },
    {
     "name": "stdout",
     "output_type": "stream",
     "text": [
      "D:\\ksponspeech\\자유대화 음성(노인남녀)\\Validation\\audio\\AI스피커 START!\n"
     ]
    },
    {
     "data": {
      "application/vnd.jupyter.widget-view+json": {
       "model_id": "47c7879dcc974e958779e51e5be56a3e",
       "version_major": 2,
       "version_minor": 0
      },
      "text/plain": [
       "  0%|          | 0/2 [00:00<?, ?it/s]"
      ]
     },
     "metadata": {},
     "output_type": "display_data"
    },
    {
     "name": "stdout",
     "output_type": "stream",
     "text": [
      "D:\\ksponspeech\\자유대화 음성(노인남녀)\\Validation\\audio\\AI챗봇 START!\n"
     ]
    },
    {
     "data": {
      "application/vnd.jupyter.widget-view+json": {
       "model_id": "4b55613e538a453e9c886be8d4ca0c76",
       "version_major": 2,
       "version_minor": 0
      },
      "text/plain": [
       "  0%|          | 0/2 [00:00<?, ?it/s]"
      ]
     },
     "metadata": {},
     "output_type": "display_data"
    },
    {
     "name": "stdout",
     "output_type": "stream",
     "text": [
      "D:\\ksponspeech\\자유대화 음성(노인남녀)\\Validation\\audio\\스튜디오 START!\n"
     ]
    },
    {
     "data": {
      "application/vnd.jupyter.widget-view+json": {
       "model_id": "e3bec49f099b437dba650c940458aaf2",
       "version_major": 2,
       "version_minor": 0
      },
      "text/plain": [
       "  0%|          | 0/2 [00:00<?, ?it/s]"
      ]
     },
     "metadata": {},
     "output_type": "display_data"
    },
    {
     "name": "stdout",
     "output_type": "stream",
     "text": [
      "D:\\ksponspeech\\자유대화 음성(노인남녀)\\Validation\\audio\\음성수집도구 START!\n"
     ]
    },
    {
     "data": {
      "application/vnd.jupyter.widget-view+json": {
       "model_id": "cfde1e87ac9c46afb375ce6664752274",
       "version_major": 2,
       "version_minor": 0
      },
      "text/plain": [
       "  0%|          | 0/2 [00:00<?, ?it/s]"
      ]
     },
     "metadata": {},
     "output_type": "display_data"
    }
   ],
   "source": [
    "# import os\n",
    "# import glob\n",
    "# dataset_dir = \"C:\\\\Users\\\\USER\\\\Desktop\\\\kspeech\\\\dataset\\\\freeconversation_common\\\\Validation\\\\wave_and_txt\\\\일반남여_일반통합01_F_KKJ00_47_수도권_녹음\"\n",
    "# transcripts_path_list = list(glob.glob(dataset_dir+\"\\\\*.txt\"))\n",
    "# audio_path_list = list(glob.glob(dataset_dir+\"\\\\*.wav\"))\n",
    "# print(len(transcripts_path_list))\n",
    "# print(len(audio_path_list))\n",
    "\n",
    "import os\n",
    "import glob\n",
    "\n",
    "train_path_list =[\"D:\\\\ksponspeech\\\\자유대화 음성(소아, 유아)\\\\Training\\\\audio\",\n",
    "                  \"D:\\\\ksponspeech\\\\자유대화 음성(일반남녀)\\\\Training\\\\audio\",\n",
    "                  \"D:\\\\ksponspeech\\\\자유대화 음성(노인남녀)\\\\Training\\\\audio\"]\n",
    "valid_path_list =[\"D:\\\\ksponspeech\\\\자유대화 음성(소아, 유아)\\\\Validation\\\\audio\",\n",
    "                  \"D:\\\\ksponspeech\\\\자유대화 음성(일반남녀)\\\\Validation\\\\audio\",\n",
    "                  \"D:\\\\ksponspeech\\\\자유대화 음성(노인남녀)\\\\Validation\\\\audio\"]\n",
    "\n",
    "train_audio_path_list = organize_audio_path_list(train_path_list)\n",
    "valid_audio_path_list = organize_audio_path_list(valid_path_list)\n",
    "\n",
    "# male_transcript_path_list = dataset_path_list(transcript_path, \"Male\")\n",
    "# male_audio_path_list = dataset_path_list(audio_path, \"Male\")\n",
    "# print(len(male_transcript_path_list))\n",
    "# print(len(male_audio_path_list))\n",
    "\n",
    "# whole_transcript_path_list = list()\n",
    "# whole_transcript_path_list.extend(female_transcript_path_list)\n",
    "# whole_transcript_path_list.extend(male_transcript_path_list)\n",
    "# whole_audio_path_list = list()\n",
    "# whole_audio_path_list.extend(female_audio_path_list)\n",
    "# whole_audio_path_list.extend(male_audio_path_list)\n",
    "# print(len(whole_transcript_path_list))\n",
    "# print(len(whole_audio_path_list))"
   ]
  },
  {
   "cell_type": "code",
   "execution_count": 25,
   "id": "0cf928ce",
   "metadata": {},
   "outputs": [
    {
     "name": "stdout",
     "output_type": "stream",
     "text": [
      "11876658\n",
      "1444372\n"
     ]
    }
   ],
   "source": [
    "print(len(train_audio_path_list))\n",
    "print(len(valid_audio_path_list))"
   ]
  },
  {
   "cell_type": "code",
   "execution_count": 26,
   "id": "32cd7b23",
   "metadata": {},
   "outputs": [],
   "source": [
    "import random\n",
    "# print(len(whole_audio_path_list)): 4557966\n",
    "random.shuffle(train_audio_path_list)\n",
    "random.shuffle(valid_audio_path_list)"
   ]
  },
  {
   "cell_type": "code",
   "execution_count": 27,
   "id": "ff3379b5",
   "metadata": {},
   "outputs": [],
   "source": [
    "#train 12만개, valid 15000개\n",
    "train_dataset, test_dataset = train_audio_path_list[:120000], valid_audio_path_list[:15000]"
   ]
  },
  {
   "cell_type": "code",
   "execution_count": 28,
   "id": "021fccea",
   "metadata": {},
   "outputs": [
    {
     "name": "stdout",
     "output_type": "stream",
     "text": [
      "120000\n",
      "15000\n"
     ]
    }
   ],
   "source": [
    "print(len(train_dataset))\n",
    "print(len(test_dataset))"
   ]
  },
  {
   "cell_type": "code",
   "execution_count": 32,
   "id": "5a0d7884",
   "metadata": {},
   "outputs": [],
   "source": [
    "# Female/male 데이터 비율 알아보기\n",
    "#train dataset\n",
    "train_female_audio_list = list()\n",
    "train_male_audio_list = list()\n",
    "\n",
    "for item in train_dataset:\n",
    "    if item.find('_F_')>=0:\n",
    "        train_female_audio_list.append(item)\n",
    "    elif item.find('_M_')>=0:\n",
    "        train_male_audio_list.append(item)\n",
    "    else:\n",
    "        print(\"ERROR!\", item)\n",
    "\n",
    "test_female_audio_list = list()\n",
    "test_male_audio_list = list()\n",
    "\n",
    "for item in test_dataset:\n",
    "    if item.find('_F_')>=0:\n",
    "        test_female_audio_list.append(item)\n",
    "    elif item.find('_M_')>=0:\n",
    "        test_male_audio_list.append(item)\n",
    "    else:\n",
    "        print(\"ERROR!\", item)"
   ]
  },
  {
   "cell_type": "code",
   "execution_count": 34,
   "id": "e28f4554",
   "metadata": {},
   "outputs": [
    {
     "name": "stdout",
     "output_type": "stream",
     "text": [
      "68884\n",
      "51116\n",
      "7652\n",
      "7348\n"
     ]
    }
   ],
   "source": [
    "print(len(train_female_audio_list))\n",
    "print(len(train_male_audio_list))\n",
    "print(len(test_female_audio_list))\n",
    "print(len(test_male_audio_list))\n",
    "# 큰 차이는 아니지만 여성 데이터가 많음"
   ]
  },
  {
   "cell_type": "code",
   "execution_count": 35,
   "id": "c242949b",
   "metadata": {},
   "outputs": [
    {
     "data": {
      "text/plain": [
       "'D:\\\\ksponspeech\\\\자유대화 음성(소아, 유아)\\\\Training\\\\audio\\\\AI챗봇\\\\Male\\\\소아남여_소아남여09_M_1607217568-2_10_경상_실내_17266.wav'"
      ]
     },
     "execution_count": 35,
     "metadata": {},
     "output_type": "execute_result"
    }
   ],
   "source": [
    "train_dataset[0]"
   ]
  },
  {
   "cell_type": "code",
   "execution_count": 49,
   "id": "bc9414bf",
   "metadata": {},
   "outputs": [
    {
     "data": {
      "application/vnd.jupyter.widget-view+json": {
       "model_id": "a0212bea6d3848c3a66ecf5e809683e6",
       "version_major": 2,
       "version_minor": 0
      },
      "text/plain": [
       "  0%|          | 0/120000 [00:00<?, ?it/s]"
      ]
     },
     "metadata": {},
     "output_type": "display_data"
    }
   ],
   "source": [
    "train_df = pd.DataFrame({'audio_path':list(), 'age':list(), 'gender':list()})\n",
    "for item in tqdm(train_dataset):\n",
    "    audio_path = item\n",
    "    #age 0:kids, 1:adult, 2:older\n",
    "    if item.find('(소아, 유아)')>=0:\n",
    "        age = 0\n",
    "    elif item.find('(일반남녀)')>=0:\n",
    "        age= 1\n",
    "    elif item.find('(노인남녀)')>=0:\n",
    "        age= 2\n",
    "    else:\n",
    "        print(\"age ERROR!\", item)\n",
    "        break\n",
    "    # gender 0:Female, 1:Male\n",
    "    if item.find('_F_')>=0:\n",
    "        gender = 0\n",
    "    elif item.find('_M_')>=0:\n",
    "        gender = 1\n",
    "    else:\n",
    "        print(\"gender ERROR!\", item)\n",
    "        break\n",
    "    tmp_df = pd.DataFrame({'audio_path':[audio_path], 'age':[age], 'gender':[gender]})\n",
    "    train_df = pd.concat([train_df, tmp_df], axis=0, ignore_index=True)"
   ]
  },
  {
   "cell_type": "code",
   "execution_count": 50,
   "id": "2344c000",
   "metadata": {},
   "outputs": [
    {
     "name": "stdout",
     "output_type": "stream",
     "text": [
      "120000\n"
     ]
    },
    {
     "data": {
      "text/html": [
       "<div>\n",
       "<style scoped>\n",
       "    .dataframe tbody tr th:only-of-type {\n",
       "        vertical-align: middle;\n",
       "    }\n",
       "\n",
       "    .dataframe tbody tr th {\n",
       "        vertical-align: top;\n",
       "    }\n",
       "\n",
       "    .dataframe thead th {\n",
       "        text-align: right;\n",
       "    }\n",
       "</style>\n",
       "<table border=\"1\" class=\"dataframe\">\n",
       "  <thead>\n",
       "    <tr style=\"text-align: right;\">\n",
       "      <th></th>\n",
       "      <th>audio_path</th>\n",
       "      <th>age</th>\n",
       "      <th>gender</th>\n",
       "    </tr>\n",
       "  </thead>\n",
       "  <tbody>\n",
       "    <tr>\n",
       "      <th>0</th>\n",
       "      <td>D:\\ksponspeech\\자유대화 음성(소아, 유아)\\Training\\audio\\...</td>\n",
       "      <td>0.0</td>\n",
       "      <td>1.0</td>\n",
       "    </tr>\n",
       "    <tr>\n",
       "      <th>1</th>\n",
       "      <td>D:\\ksponspeech\\자유대화 음성(소아, 유아)\\Training\\audio\\...</td>\n",
       "      <td>0.0</td>\n",
       "      <td>0.0</td>\n",
       "    </tr>\n",
       "    <tr>\n",
       "      <th>2</th>\n",
       "      <td>D:\\ksponspeech\\자유대화 음성(노인남녀)\\Training\\audio\\AI...</td>\n",
       "      <td>2.0</td>\n",
       "      <td>0.0</td>\n",
       "    </tr>\n",
       "    <tr>\n",
       "      <th>3</th>\n",
       "      <td>D:\\ksponspeech\\자유대화 음성(소아, 유아)\\Training\\audio\\...</td>\n",
       "      <td>0.0</td>\n",
       "      <td>0.0</td>\n",
       "    </tr>\n",
       "    <tr>\n",
       "      <th>4</th>\n",
       "      <td>D:\\ksponspeech\\자유대화 음성(일반남녀)\\Training\\audio\\AI...</td>\n",
       "      <td>1.0</td>\n",
       "      <td>1.0</td>\n",
       "    </tr>\n",
       "  </tbody>\n",
       "</table>\n",
       "</div>"
      ],
      "text/plain": [
       "                                          audio_path  age  gender\n",
       "0  D:\\ksponspeech\\자유대화 음성(소아, 유아)\\Training\\audio\\...  0.0     1.0\n",
       "1  D:\\ksponspeech\\자유대화 음성(소아, 유아)\\Training\\audio\\...  0.0     0.0\n",
       "2  D:\\ksponspeech\\자유대화 음성(노인남녀)\\Training\\audio\\AI...  2.0     0.0\n",
       "3  D:\\ksponspeech\\자유대화 음성(소아, 유아)\\Training\\audio\\...  0.0     0.0\n",
       "4  D:\\ksponspeech\\자유대화 음성(일반남녀)\\Training\\audio\\AI...  1.0     1.0"
      ]
     },
     "execution_count": 50,
     "metadata": {},
     "output_type": "execute_result"
    }
   ],
   "source": [
    "print(len(train_df))\n",
    "train_df.head(5)"
   ]
  },
  {
   "cell_type": "code",
   "execution_count": 45,
   "id": "ebbaebf6",
   "metadata": {},
   "outputs": [
    {
     "data": {
      "application/vnd.jupyter.widget-view+json": {
       "model_id": "70102319c2ea4b12973fed84f316245b",
       "version_major": 2,
       "version_minor": 0
      },
      "text/plain": [
       "  0%|          | 0/15000 [00:00<?, ?it/s]"
      ]
     },
     "metadata": {},
     "output_type": "display_data"
    }
   ],
   "source": [
    "test_df = pd.DataFrame({'audio_path':list(), 'age':list(), 'gender':list()})\n",
    "for item in tqdm(test_dataset):\n",
    "    audio_path = item\n",
    "    #age 0:kids, 1:adult, 2:older\n",
    "    if item.find('(소아, 유아)')>=0:\n",
    "        age = 0\n",
    "    elif item.find('(일반남녀)')>=0:\n",
    "        age= 1\n",
    "    elif item.find('(노인남녀)')>=0:\n",
    "        age= 2\n",
    "    else:\n",
    "        print(\"age ERROR!\", item)\n",
    "        break\n",
    "    # gender 0:Female, 1:Male\n",
    "    if item.find('_F_')>=0:\n",
    "        gender = 0\n",
    "    elif item.find('_M_')>=0:\n",
    "        gender = 1\n",
    "    else:\n",
    "        print(\"gender ERROR!\", item)\n",
    "        break\n",
    "    tmp_df = pd.DataFrame({'audio_path':[audio_path], 'age':[age], 'gender':[gender]})\n",
    "    test_df = pd.concat([test_df, tmp_df], axis=0, ignore_index=True)"
   ]
  },
  {
   "cell_type": "code",
   "execution_count": 46,
   "id": "16057853",
   "metadata": {},
   "outputs": [
    {
     "name": "stdout",
     "output_type": "stream",
     "text": [
      "15000\n"
     ]
    },
    {
     "data": {
      "text/html": [
       "<div>\n",
       "<style scoped>\n",
       "    .dataframe tbody tr th:only-of-type {\n",
       "        vertical-align: middle;\n",
       "    }\n",
       "\n",
       "    .dataframe tbody tr th {\n",
       "        vertical-align: top;\n",
       "    }\n",
       "\n",
       "    .dataframe thead th {\n",
       "        text-align: right;\n",
       "    }\n",
       "</style>\n",
       "<table border=\"1\" class=\"dataframe\">\n",
       "  <thead>\n",
       "    <tr style=\"text-align: right;\">\n",
       "      <th></th>\n",
       "      <th>audio_path</th>\n",
       "      <th>age</th>\n",
       "      <th>gender</th>\n",
       "    </tr>\n",
       "  </thead>\n",
       "  <tbody>\n",
       "    <tr>\n",
       "      <th>0</th>\n",
       "      <td>D:\\ksponspeech\\자유대화 음성(노인남녀)\\Validation\\audio\\...</td>\n",
       "      <td>2.0</td>\n",
       "      <td>0.0</td>\n",
       "    </tr>\n",
       "    <tr>\n",
       "      <th>1</th>\n",
       "      <td>D:\\ksponspeech\\자유대화 음성(소아, 유아)\\Validation\\audi...</td>\n",
       "      <td>0.0</td>\n",
       "      <td>0.0</td>\n",
       "    </tr>\n",
       "    <tr>\n",
       "      <th>2</th>\n",
       "      <td>D:\\ksponspeech\\자유대화 음성(소아, 유아)\\Validation\\audi...</td>\n",
       "      <td>0.0</td>\n",
       "      <td>0.0</td>\n",
       "    </tr>\n",
       "    <tr>\n",
       "      <th>3</th>\n",
       "      <td>D:\\ksponspeech\\자유대화 음성(소아, 유아)\\Validation\\audi...</td>\n",
       "      <td>0.0</td>\n",
       "      <td>0.0</td>\n",
       "    </tr>\n",
       "    <tr>\n",
       "      <th>4</th>\n",
       "      <td>D:\\ksponspeech\\자유대화 음성(일반남녀)\\Validation\\audio\\...</td>\n",
       "      <td>1.0</td>\n",
       "      <td>0.0</td>\n",
       "    </tr>\n",
       "  </tbody>\n",
       "</table>\n",
       "</div>"
      ],
      "text/plain": [
       "                                          audio_path  age  gender\n",
       "0  D:\\ksponspeech\\자유대화 음성(노인남녀)\\Validation\\audio\\...  2.0     0.0\n",
       "1  D:\\ksponspeech\\자유대화 음성(소아, 유아)\\Validation\\audi...  0.0     0.0\n",
       "2  D:\\ksponspeech\\자유대화 음성(소아, 유아)\\Validation\\audi...  0.0     0.0\n",
       "3  D:\\ksponspeech\\자유대화 음성(소아, 유아)\\Validation\\audi...  0.0     0.0\n",
       "4  D:\\ksponspeech\\자유대화 음성(일반남녀)\\Validation\\audio\\...  1.0     0.0"
      ]
     },
     "execution_count": 46,
     "metadata": {},
     "output_type": "execute_result"
    }
   ],
   "source": [
    "print(len(test_df))\n",
    "test_df.head(5)"
   ]
  },
  {
   "cell_type": "code",
   "execution_count": 51,
   "id": "593b8ad5",
   "metadata": {},
   "outputs": [],
   "source": [
    "train_df.to_csv(\"C:\\\\Users\\\\USER\\\\Desktop\\\\speech-classification\\\\age_Dataset\\\\train_df.csv\")\n",
    "test_df.to_csv(\"C:\\\\Users\\\\USER\\\\Desktop\\\\speech-classification\\\\age_Dataset\\\\test_df.csv\")"
   ]
  },
  {
   "cell_type": "code",
   "execution_count": 52,
   "id": "6d651589",
   "metadata": {},
   "outputs": [
    {
     "name": "stdout",
     "output_type": "stream",
     "text": [
      "[2, 2, 3]\n",
      "[1027 1027    2    2    3 1027 1027 1027]\n"
     ]
    }
   ],
   "source": [
    "aaa = [2,2,3]\n",
    "bbb = np.pad(aaa, (2, 3),'constant', constant_values=1027)\n",
    "print(aaa)\n",
    "print(bbb)"
   ]
  }
 ],
 "metadata": {
  "kernelspec": {
   "display_name": "kspeech4",
   "language": "python",
   "name": "kspeech4"
  },
  "language_info": {
   "codemirror_mode": {
    "name": "ipython",
    "version": 3
   },
   "file_extension": ".py",
   "mimetype": "text/x-python",
   "name": "python",
   "nbconvert_exporter": "python",
   "pygments_lexer": "ipython3",
   "version": "3.8.5"
  }
 },
 "nbformat": 4,
 "nbformat_minor": 5
}
