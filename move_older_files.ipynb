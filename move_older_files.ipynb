{
 "cells": [
  {
   "cell_type": "code",
   "execution_count": 2,
   "id": "0605b653",
   "metadata": {},
   "outputs": [
    {
     "data": {
      "text/plain": [
       "['[원천]1.AI챗봇_1',\n",
       " '[원천]1.AI챗봇_2',\n",
       " '[원천]2.음성수집도구_1',\n",
       " '[원천]2.음성수집도구_2',\n",
       " '[원천]2.음성수집도구_3',\n",
       " '[원천]2.음성수집도구_4',\n",
       " '[원천]2.음성수집도구_5',\n",
       " '[원천]2.음성수집도구_6',\n",
       " '[원천]3.스튜디오',\n",
       " '[원천]4.AI스피커']"
      ]
     },
     "execution_count": 2,
     "metadata": {},
     "output_type": "execute_result"
    }
   ],
   "source": [
    "import os\n",
    "import glob\n",
    "dest_folder = \"D:\\\\ksponspeech\\\\자유대화 음성(노인남녀)\\\\Training\\\\audio\"\n",
    "train_path = \"D:\\\\ksponspeech\\\\자유대화 음성(노인남녀)\\\\Training\"\n",
    "train_dir_list = os.listdir(train_path)\n",
    "train_dir_list = [name for name in train_dir_list if name[0:4]=='[원천]'] #[원천] 폴더만\n",
    "train_dir_list"
   ]
  },
  {
   "cell_type": "code",
   "execution_count": 3,
   "id": "d1a8974c",
   "metadata": {},
   "outputs": [
    {
     "name": "stdout",
     "output_type": "stream",
     "text": [
      "ERROR!\n"
     ]
    },
    {
     "data": {
      "text/plain": [
       "['AI챗봇',\n",
       " 'AI챗봇',\n",
       " '음성수집도구',\n",
       " '음성수집도구',\n",
       " '음성수집도구',\n",
       " '음성수집도구',\n",
       " '음성수집도구',\n",
       " '음성수집도구',\n",
       " '스튜디오',\n",
       " '스튜디오']"
      ]
     },
     "execution_count": 3,
     "metadata": {},
     "output_type": "execute_result"
    }
   ],
   "source": [
    "train_env_list = []\n",
    "for item in train_dir_list:\n",
    "    if \"AI챗봇\" in item:\n",
    "        i = \"AI챗봇\"\n",
    "    elif \"음성수집도구\" in item:\n",
    "        i = \"음성수집도구\"\n",
    "    elif \"스튜디오\" in item:\n",
    "        i = \"스튜디오\"\n",
    "    else:\n",
    "        print(\"ERROR!\")\n",
    "    train_env_list.append(i)\n",
    "\n",
    "train_env_list"
   ]
  },
  {
   "cell_type": "code",
   "execution_count": 4,
   "id": "1f4f4e37",
   "metadata": {},
   "outputs": [],
   "source": [
    "import os\n",
    "import shutil\n",
    "#train_dataset\n",
    "def move_file(target_file, env_folder, env):\n",
    "    #env = env_folder[44:-2] #AI챗봇 or 음성수집도구 or 스튜디오\n",
    "    #환경별 폴더에 들어가도록 설정\n",
    "    dest_folder = \"D:\\\\ksponspeech\\\\자유대화 음성(노인남녀)\\\\Training\\\\audio\"+'\\\\'+str(env)\n",
    "    #성별 폴더에 들어가도록 설정\n",
    "    if target_file.find('M')>=0: #남성 파일이면\n",
    "        dest_folder = dest_folder+'\\\\Male'\n",
    "    elif target_file.find('F')>=0:\n",
    "        dest_folder = dest_folder+'\\\\Female'\n",
    "    else:\n",
    "        print(\"Error!\")\n",
    "        print(\"File_name: \", target_file)\n",
    "        print(\"dest_folder: \", dest_folder)\n",
    "        print(\"env_folder: \". env_folder)\n",
    "        print(\"env: \", env)\n",
    "    #파일 옮기기\n",
    "    shutil.move(target_file, dest_folder)\n",
    "    #print(target_file,' ', dest_folder, ' ', env, ' ', env_folder, \"move ok!\")"
   ]
  },
  {
   "cell_type": "code",
   "execution_count": 5,
   "id": "e04a3882",
   "metadata": {
    "scrolled": false
   },
   "outputs": [
    {
     "name": "stdout",
     "output_type": "stream",
     "text": [
      "[원천]1.AI챗봇_1 START!\n"
     ]
    },
    {
     "name": "stderr",
     "output_type": "stream",
     "text": [
      "100%|█████████████████████████████████| 148/148 [02:17<00:00,  1.08it/s]\n"
     ]
    },
    {
     "name": "stdout",
     "output_type": "stream",
     "text": [
      "[원천]1.AI챗봇_2 START!\n"
     ]
    },
    {
     "name": "stderr",
     "output_type": "stream",
     "text": [
      "100%|█████████████████████████████████| 136/136 [01:43<00:00,  1.31it/s]\n"
     ]
    },
    {
     "name": "stdout",
     "output_type": "stream",
     "text": [
      "[원천]2.음성수집도구_1 START!\n"
     ]
    },
    {
     "name": "stderr",
     "output_type": "stream",
     "text": [
      "100%|█████████████████████████████████| 120/120 [01:01<00:00,  1.97it/s]\n"
     ]
    },
    {
     "name": "stdout",
     "output_type": "stream",
     "text": [
      "[원천]2.음성수집도구_2 START!\n"
     ]
    },
    {
     "name": "stderr",
     "output_type": "stream",
     "text": [
      "100%|█████████████████████████████████| 110/110 [00:54<00:00,  2.03it/s]\n"
     ]
    },
    {
     "name": "stdout",
     "output_type": "stream",
     "text": [
      "[원천]2.음성수집도구_3 START!\n"
     ]
    },
    {
     "name": "stderr",
     "output_type": "stream",
     "text": [
      "100%|█████████████████████████████████| 110/110 [00:52<00:00,  2.11it/s]\n"
     ]
    },
    {
     "name": "stdout",
     "output_type": "stream",
     "text": [
      "[원천]2.음성수집도구_4 START!\n"
     ]
    },
    {
     "name": "stderr",
     "output_type": "stream",
     "text": [
      "100%|███████████████████████████████████| 90/90 [00:52<00:00,  1.70it/s]\n"
     ]
    },
    {
     "name": "stdout",
     "output_type": "stream",
     "text": [
      "[원천]2.음성수집도구_5 START!\n"
     ]
    },
    {
     "name": "stderr",
     "output_type": "stream",
     "text": [
      "100%|███████████████████████████████████| 90/90 [00:56<00:00,  1.58it/s]\n"
     ]
    },
    {
     "name": "stdout",
     "output_type": "stream",
     "text": [
      "[원천]2.음성수집도구_6 START!\n"
     ]
    },
    {
     "name": "stderr",
     "output_type": "stream",
     "text": [
      "100%|█████████████████████████████████| 153/153 [01:01<00:00,  2.48it/s]\n"
     ]
    },
    {
     "name": "stdout",
     "output_type": "stream",
     "text": [
      "[원천]3.스튜디오 START!\n"
     ]
    },
    {
     "name": "stderr",
     "output_type": "stream",
     "text": [
      "100%|█████████████████████████████████| 125/125 [01:31<00:00,  1.37it/s]\n"
     ]
    },
    {
     "name": "stdout",
     "output_type": "stream",
     "text": [
      "[원천]4.AI스피커 START!\n"
     ]
    },
    {
     "name": "stderr",
     "output_type": "stream",
     "text": [
      "100%|███████████████████████████████████| 83/83 [02:11<00:00,  1.59s/it]\n"
     ]
    }
   ],
   "source": [
    "from tqdm import tqdm\n",
    "for i in range(len(train_dir_list)): # 원천 - cwd\n",
    "    print(train_dir_list[i], \"START!\")\n",
    "    tmp_dir = train_path+'\\\\'+train_dir_list[i]\n",
    "    for tmp_folder in tqdm(os.listdir(tmp_dir)):\n",
    "        #print(\"tmp_folder: \", tmp_folder)\n",
    "        tmp_file_list = os.listdir(tmp_dir+'\\\\'+tmp_folder) # 원천 - tmp_folder - cwd\n",
    "        for tmp_file in tmp_file_list:\n",
    "            #print(\"tmp_file: \", tmp_file)\n",
    "            tmp_path = tmp_dir+'\\\\'+tmp_folder+'\\\\'+tmp_file\n",
    "            move_file(tmp_path, tmp_dir, train_env_list[i])"
   ]
  },
  {
   "cell_type": "code",
   "execution_count": 6,
   "id": "98e2f40f",
   "metadata": {},
   "outputs": [
    {
     "data": {
      "text/plain": [
       "['[원천]1.AI챗봇', '[원천]2.음성수집도구', '[원천]3.스튜디오', '[원천]4.AI스피커']"
      ]
     },
     "execution_count": 6,
     "metadata": {},
     "output_type": "execute_result"
    }
   ],
   "source": [
    "import glob\n",
    "dest_folder = \"D:\\ksponspeech\\\\자유대화 음성(노인남녀)\\\\Validation\\audio\"\n",
    "valid_path = \"D:\\\\ksponspeech\\\\자유대화 음성(노인남녀)\\\\Validation\"\n",
    "valid_dir_list = os.listdir(valid_path)\n",
    "valid_dir_list = [name for name in valid_dir_list if name[0:4]=='[원천]'] #[원천] 폴더만\n",
    "valid_dir_list"
   ]
  },
  {
   "cell_type": "code",
   "execution_count": 7,
   "id": "ce1d7dbe",
   "metadata": {},
   "outputs": [
    {
     "name": "stdout",
     "output_type": "stream",
     "text": [
      "ERROR!\n"
     ]
    },
    {
     "data": {
      "text/plain": [
       "['AI챗봇',\n",
       " 'AI챗봇',\n",
       " '음성수집도구',\n",
       " '음성수집도구',\n",
       " '음성수집도구',\n",
       " '음성수집도구',\n",
       " '음성수집도구',\n",
       " '음성수집도구',\n",
       " '스튜디오',\n",
       " '스튜디오']"
      ]
     },
     "execution_count": 7,
     "metadata": {},
     "output_type": "execute_result"
    }
   ],
   "source": [
    "valid_env_list = []\n",
    "for item in train_dir_list:\n",
    "    if \"AI챗봇\" in item:\n",
    "        i = \"AI챗봇\"\n",
    "    elif \"음성수집도구\" in item:\n",
    "        i = \"음성수집도구\"\n",
    "    elif \"스튜디오\" in item:\n",
    "        i = \"스튜디오\"\n",
    "    else:\n",
    "        print(\"ERROR!\")\n",
    "    valid_env_list.append(i)\n",
    "\n",
    "valid_env_list"
   ]
  },
  {
   "cell_type": "code",
   "execution_count": 8,
   "id": "37295a9c",
   "metadata": {},
   "outputs": [],
   "source": [
    "import os\n",
    "import shutil\n",
    "#valid_dataset\n",
    "def move_file(target_file, env_folder, env):\n",
    "    #환경별 폴더에 들어가도록 설정\n",
    "    dest_folder = \"D:\\\\ksponspeech\\\\자유대화 음성(노인남녀)\\\\Validation\\\\audio\"+'\\\\'+str(env)\n",
    "    #성별 폴더에 들어가도록 설정\n",
    "    if target_file.find('M')>=0: #남성 파일이면\n",
    "        dest_folder = dest_folder+'\\\\Male'\n",
    "    elif target_file.find('F')>=0:\n",
    "        dest_folder = dest_folder+'\\\\Female'\n",
    "    else:\n",
    "        print(\"Error!\")\n",
    "        print(\"File_name: \", target_file)\n",
    "        print(\"dest_folder: \", dest_folder)\n",
    "        print(\"env_folder: \". env_folder)\n",
    "        print(\"env: \", env)\n",
    "    #파일 옮기기\n",
    "    shutil.move(target_file, dest_folder)\n",
    "    #print(target_file,' ', dest_folder, ' ', env, ' ', env_folder, \"move ok!\")"
   ]
  },
  {
   "cell_type": "code",
   "execution_count": 9,
   "id": "c9b457ec",
   "metadata": {},
   "outputs": [
    {
     "name": "stdout",
     "output_type": "stream",
     "text": [
      "[원천]1.AI챗봇 START!\n"
     ]
    },
    {
     "name": "stderr",
     "output_type": "stream",
     "text": [
      "  0%|                                            | 0/56 [00:00<?, ?it/s]\n"
     ]
    },
    {
     "ename": "FileNotFoundError",
     "evalue": "[Errno 2] No such file or directory: 'D:\\\\ksponspeech\\\\자유대화 음성(노인남녀)\\\\Validation\\\\audio\\\\AI챗봇\\\\Female'",
     "output_type": "error",
     "traceback": [
      "\u001b[1;31m-------------------------------------------------------------------------\u001b[0m",
      "\u001b[1;31mFileNotFoundError\u001b[0m                       Traceback (most recent call last)",
      "File \u001b[1;32m~\\anaconda3\\envs\\kspeech4\\lib\\shutil.py:788\u001b[0m, in \u001b[0;36mmove\u001b[1;34m(src, dst, copy_function)\u001b[0m\n\u001b[0;32m    787\u001b[0m \u001b[38;5;28;01mtry\u001b[39;00m:\n\u001b[1;32m--> 788\u001b[0m     \u001b[43mos\u001b[49m\u001b[38;5;241;43m.\u001b[39;49m\u001b[43mrename\u001b[49m\u001b[43m(\u001b[49m\u001b[43msrc\u001b[49m\u001b[43m,\u001b[49m\u001b[43m \u001b[49m\u001b[43mreal_dst\u001b[49m\u001b[43m)\u001b[49m\n\u001b[0;32m    789\u001b[0m \u001b[38;5;28;01mexcept\u001b[39;00m \u001b[38;5;167;01mOSError\u001b[39;00m:\n",
      "\u001b[1;31mFileNotFoundError\u001b[0m: [WinError 3] 지정된 경로를 찾을 수 없습니다: 'D:\\\\ksponspeech\\\\자유대화 음성(노인남녀)\\\\Validation\\\\[원천]1.AI챗봇\\\\노인남여_노인대화07_F_1520511716_63_수도권_실내\\\\노인남여_노인대화07_F_1520511716_63_수도권_실내_07250.wav' -> 'D:\\\\ksponspeech\\\\자유대화 음성(노인남녀)\\\\Validation\\\\audio\\\\AI챗봇\\\\Female'",
      "\nDuring handling of the above exception, another exception occurred:\n",
      "\u001b[1;31mFileNotFoundError\u001b[0m                       Traceback (most recent call last)",
      "Cell \u001b[1;32mIn [9], line 11\u001b[0m\n\u001b[0;32m      8\u001b[0m \u001b[38;5;28;01mfor\u001b[39;00m tmp_file \u001b[38;5;129;01min\u001b[39;00m tmp_file_list:\n\u001b[0;32m      9\u001b[0m     \u001b[38;5;66;03m#print(\"tmp_file: \", tmp_file)\u001b[39;00m\n\u001b[0;32m     10\u001b[0m     tmp_path \u001b[38;5;241m=\u001b[39m tmp_dir\u001b[38;5;241m+\u001b[39m\u001b[38;5;124m'\u001b[39m\u001b[38;5;130;01m\\\\\u001b[39;00m\u001b[38;5;124m'\u001b[39m\u001b[38;5;241m+\u001b[39mtmp_folder\u001b[38;5;241m+\u001b[39m\u001b[38;5;124m'\u001b[39m\u001b[38;5;130;01m\\\\\u001b[39;00m\u001b[38;5;124m'\u001b[39m\u001b[38;5;241m+\u001b[39mtmp_file\n\u001b[1;32m---> 11\u001b[0m     \u001b[43mmove_file\u001b[49m\u001b[43m(\u001b[49m\u001b[43mtmp_path\u001b[49m\u001b[43m,\u001b[49m\u001b[43m \u001b[49m\u001b[43mtmp_dir\u001b[49m\u001b[43m,\u001b[49m\u001b[43m \u001b[49m\u001b[43mvalid_env_list\u001b[49m\u001b[43m[\u001b[49m\u001b[43mi\u001b[49m\u001b[43m]\u001b[49m\u001b[43m)\u001b[49m\n",
      "Cell \u001b[1;32mIn [8], line 19\u001b[0m, in \u001b[0;36mmove_file\u001b[1;34m(target_file, env_folder, env)\u001b[0m\n\u001b[0;32m     17\u001b[0m     \u001b[38;5;28mprint\u001b[39m(\u001b[38;5;124m\"\u001b[39m\u001b[38;5;124menv: \u001b[39m\u001b[38;5;124m\"\u001b[39m, env)\n\u001b[0;32m     18\u001b[0m \u001b[38;5;66;03m#파일 옮기기\u001b[39;00m\n\u001b[1;32m---> 19\u001b[0m \u001b[43mshutil\u001b[49m\u001b[38;5;241;43m.\u001b[39;49m\u001b[43mmove\u001b[49m\u001b[43m(\u001b[49m\u001b[43mtarget_file\u001b[49m\u001b[43m,\u001b[49m\u001b[43m \u001b[49m\u001b[43mdest_folder\u001b[49m\u001b[43m)\u001b[49m\n",
      "File \u001b[1;32m~\\anaconda3\\envs\\kspeech4\\lib\\shutil.py:802\u001b[0m, in \u001b[0;36mmove\u001b[1;34m(src, dst, copy_function)\u001b[0m\n\u001b[0;32m    800\u001b[0m         rmtree(src)\n\u001b[0;32m    801\u001b[0m     \u001b[38;5;28;01melse\u001b[39;00m:\n\u001b[1;32m--> 802\u001b[0m         \u001b[43mcopy_function\u001b[49m\u001b[43m(\u001b[49m\u001b[43msrc\u001b[49m\u001b[43m,\u001b[49m\u001b[43m \u001b[49m\u001b[43mreal_dst\u001b[49m\u001b[43m)\u001b[49m\n\u001b[0;32m    803\u001b[0m         os\u001b[38;5;241m.\u001b[39munlink(src)\n\u001b[0;32m    804\u001b[0m \u001b[38;5;28;01mreturn\u001b[39;00m real_dst\n",
      "File \u001b[1;32m~\\anaconda3\\envs\\kspeech4\\lib\\shutil.py:432\u001b[0m, in \u001b[0;36mcopy2\u001b[1;34m(src, dst, follow_symlinks)\u001b[0m\n\u001b[0;32m    430\u001b[0m \u001b[38;5;28;01mif\u001b[39;00m os\u001b[38;5;241m.\u001b[39mpath\u001b[38;5;241m.\u001b[39misdir(dst):\n\u001b[0;32m    431\u001b[0m     dst \u001b[38;5;241m=\u001b[39m os\u001b[38;5;241m.\u001b[39mpath\u001b[38;5;241m.\u001b[39mjoin(dst, os\u001b[38;5;241m.\u001b[39mpath\u001b[38;5;241m.\u001b[39mbasename(src))\n\u001b[1;32m--> 432\u001b[0m \u001b[43mcopyfile\u001b[49m\u001b[43m(\u001b[49m\u001b[43msrc\u001b[49m\u001b[43m,\u001b[49m\u001b[43m \u001b[49m\u001b[43mdst\u001b[49m\u001b[43m,\u001b[49m\u001b[43m \u001b[49m\u001b[43mfollow_symlinks\u001b[49m\u001b[38;5;241;43m=\u001b[39;49m\u001b[43mfollow_symlinks\u001b[49m\u001b[43m)\u001b[49m\n\u001b[0;32m    433\u001b[0m copystat(src, dst, follow_symlinks\u001b[38;5;241m=\u001b[39mfollow_symlinks)\n\u001b[0;32m    434\u001b[0m \u001b[38;5;28;01mreturn\u001b[39;00m dst\n",
      "File \u001b[1;32m~\\anaconda3\\envs\\kspeech4\\lib\\shutil.py:261\u001b[0m, in \u001b[0;36mcopyfile\u001b[1;34m(src, dst, follow_symlinks)\u001b[0m\n\u001b[0;32m    259\u001b[0m     os\u001b[38;5;241m.\u001b[39msymlink(os\u001b[38;5;241m.\u001b[39mreadlink(src), dst)\n\u001b[0;32m    260\u001b[0m \u001b[38;5;28;01melse\u001b[39;00m:\n\u001b[1;32m--> 261\u001b[0m     \u001b[38;5;28;01mwith\u001b[39;00m \u001b[38;5;28mopen\u001b[39m(src, \u001b[38;5;124m'\u001b[39m\u001b[38;5;124mrb\u001b[39m\u001b[38;5;124m'\u001b[39m) \u001b[38;5;28;01mas\u001b[39;00m fsrc, \u001b[38;5;28;43mopen\u001b[39;49m\u001b[43m(\u001b[49m\u001b[43mdst\u001b[49m\u001b[43m,\u001b[49m\u001b[43m \u001b[49m\u001b[38;5;124;43m'\u001b[39;49m\u001b[38;5;124;43mwb\u001b[39;49m\u001b[38;5;124;43m'\u001b[39;49m\u001b[43m)\u001b[49m \u001b[38;5;28;01mas\u001b[39;00m fdst:\n\u001b[0;32m    262\u001b[0m         \u001b[38;5;66;03m# macOS\u001b[39;00m\n\u001b[0;32m    263\u001b[0m         \u001b[38;5;28;01mif\u001b[39;00m _HAS_FCOPYFILE:\n\u001b[0;32m    264\u001b[0m             \u001b[38;5;28;01mtry\u001b[39;00m:\n",
      "\u001b[1;31mFileNotFoundError\u001b[0m: [Errno 2] No such file or directory: 'D:\\\\ksponspeech\\\\자유대화 음성(노인남녀)\\\\Validation\\\\audio\\\\AI챗봇\\\\Female'"
     ]
    }
   ],
   "source": [
    "from tqdm import tqdm\n",
    "for i in range(len(valid_dir_list)): # 원천 - cwd\n",
    "    print(valid_dir_list[i], \"START!\")\n",
    "    tmp_dir = valid_path+'\\\\'+valid_dir_list[i]\n",
    "    for tmp_folder in tqdm(os.listdir(tmp_dir)):\n",
    "        #print(\"tmp_folder: \", tmp_folder)\n",
    "        tmp_file_list = os.listdir(tmp_dir+'\\\\'+tmp_folder) # 원천 - tmp_folder - cwd\n",
    "        for tmp_file in tmp_file_list:\n",
    "            #print(\"tmp_file: \", tmp_file)\n",
    "            tmp_path = tmp_dir+'\\\\'+tmp_folder+'\\\\'+tmp_file\n",
    "            move_file(tmp_path, tmp_dir, valid_env_list[i])"
   ]
  },
  {
   "cell_type": "code",
   "execution_count": null,
   "id": "fb7f2452",
   "metadata": {},
   "outputs": [],
   "source": [
    "print(tmp_dir)\n",
    "print(tmp_folder)\n",
    "print(tmp_file)"
   ]
  },
  {
   "cell_type": "code",
   "execution_count": null,
   "id": "68cf03a8",
   "metadata": {},
   "outputs": [],
   "source": []
  }
 ],
 "metadata": {
  "kernelspec": {
   "display_name": "kspeech4",
   "language": "python",
   "name": "kspeech4"
  },
  "language_info": {
   "codemirror_mode": {
    "name": "ipython",
    "version": 3
   },
   "file_extension": ".py",
   "mimetype": "text/x-python",
   "name": "python",
   "nbconvert_exporter": "python",
   "pygments_lexer": "ipython3",
   "version": "3.8.5"
  }
 },
 "nbformat": 4,
 "nbformat_minor": 5
}
